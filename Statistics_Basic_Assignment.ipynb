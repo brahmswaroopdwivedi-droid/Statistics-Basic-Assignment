{
  "nbformat": 4,
  "nbformat_minor": 0,
  "metadata": {
    "colab": {
      "provenance": []
    },
    "kernelspec": {
      "name": "python3",
      "display_name": "Python 3"
    },
    "language_info": {
      "name": "python"
    }
  },
  "cells": [
    {
      "cell_type": "markdown",
      "source": [
        "#Statistic Basic Assignment"
      ],
      "metadata": {
        "id": "7_k_EpylvZyX"
      }
    },
    {
      "cell_type": "markdown",
      "source": [
        "1. What is the difference between descriptive statistics and inferential statistics? Explain with examples.\n",
        "- Descriptive statistics summarize and describe the features of a dataset.They provide a way to present data in a meaningful way,allowing for quick understanding of the information.                                               Example: hours studied by 3 friends: 1,2,2                                     Mean= 1.67,  Mode=2                                                            \n",
        "Inferential statistics use sample data to make inferences or predictions about  a larger population.                                                            Example:Using this you infer all college friends study avg~1.67 hours/day\n",
        "2. What is sampling in statistics? Explain the differences between random and stratified sampling.\n",
        "- The process of selecting a subset of individuals or data from a larger population  to make inferences about the whole population.                    \n",
        " Random Sampling – Every member of the population has an equal chance of being selected it helps reduce bias.                                                \n",
        "Stratified Sampling– The population is divided into subgroups(strata) based on shared characteristics.Samples are then randomly taken from each stratum.This ensures representation from each group.\n",
        "3. Define mean, median, and mode. Explain why these measures of central tendency are important\n",
        "- Mean: The average of all values.                                              \n",
        "Median : The middle value when data is ordered.                                 \n",
        "Mode : The most frequently occurring value.\n",
        "The measures of central tendency are important because they summarise data into a single representative value,help understand the distribution’s center and are useful for comparisons and making inferences about the population.             \n",
        "4. Explain skewness and kurtosis. What does a positive skew imply about the data?\n",
        "- Skewness describes the asymmetry of a probability distribution. Kurtosis describes the “ tailedness” of a probability distribution.A positive skew implies the tail of the distribution is longer on the right side, meaning there are more extreme values on the higher end of the data.\n",
        "\n"
      ],
      "metadata": {
        "id": "TEF39SUorGLz"
      }
    },
    {
      "cell_type": "code",
      "source": [
        "#5.Implement a Python program to compute the mean, median, and mode of a given list of numbers.numbers = [12, 15, 12, 18, 19, 12, 20, 22, 19, 19, 24, 24, 24, 26, 28](Include your Python code and output in the code box below.)\n",
        "import statistics\n",
        "numbers= [12, 15, 12, 18, 19, 12, 20, 22, 19, 19, 24, 24, 24, 26, 28]\n",
        "mean=statistics.mean(numbers)\n",
        "median=statistics.median(numbers)\n",
        "mode=statistics.mode(numbers)\n",
        "print(f\"Mean:{mean}\")\n",
        "print(f\"Median:{median}\")\n",
        "print(f\"Mode:{mode}\")\n"
      ],
      "metadata": {
        "id": "eEyHOvPyx0t_",
        "colab": {
          "base_uri": "https://localhost:8080/"
        },
        "outputId": "ffa5b908-1923-4f95-b8b6-11a0c2419e6b"
      },
      "execution_count": 1,
      "outputs": [
        {
          "output_type": "stream",
          "name": "stdout",
          "text": [
            "Mean:19.6\n",
            "Median:19\n",
            "Mode:12\n"
          ]
        }
      ]
    },
    {
      "cell_type": "code",
      "source": [
        "#6.Compute the covariance and correlation coefficient between the following two datasets provided as lists in Python: list_x = [10, 20, 30, 40, 50] list_y = [15, 25, 35, 45, 60] (Include your Python code and output in the code box below.)\n",
        "import numpy as np\n",
        "list_x=np.array([10,20,30,40,50])\n",
        "list_y=np.array([15,25,35,45,60])\n",
        "covariance=np.cov(list_x,list_y)[0,1]\n",
        "correlation_coefficient:np.corrcoef(list_x,list_y)[0,1]\n",
        "print(f\"Covariance:{covariance}\")\n",
        "print(f\"Correlation Coefficient:{correlation_coefficient}\")"
      ],
      "metadata": {
        "id": "WlWcrcU0ydId",
        "colab": {
          "base_uri": "https://localhost:8080/"
        },
        "outputId": "20c722dd-b423-4a91-bd04-c396baa510f0"
      },
      "execution_count": 5,
      "outputs": [
        {
          "output_type": "stream",
          "name": "stdout",
          "text": [
            "Covariance:275.0\n",
            "Correlation Coefficient:0.995893206467704\n"
          ]
        }
      ]
    },
    {
      "cell_type": "code",
      "source": [
        "#7.Write a Python script to draw a boxplot for the following numeric list and identify its outliers. Explain the result:data = [12, 14, 14, 15, 18, 19, 19, 21, 22, 22, 23, 23, 24, 26, 29, 35](Include your Python code and output in the code box below.)\n",
        "#ans.Explanation: ● Outliers:Running the code will print the outliers based on the IQRmethod.For the given data:Q1=18.25,Q3=23.75,IQR= 5.5,lower_bound= 18.25-1.5*5.5=10,upper_bound=23.75+1.5*5.5=32,Outliers:[3 5] because 35>32.● Boxplot: The code will display a boxplot showing the distribution of the data,highlighting the median,quartiles,and any outliers(in this case,35).\n",
        "import matplotlib.pyplot as plt\n",
        "import numpy as np\n",
        "data=[12, 14, 14, 15, 18, 19, 19, 21, 22, 22, 23, 23, 24, 26, 29, 35]\n",
        "Q1=np.percentile(data,25)\n",
        "Q3=np.percentile(data,75)\n",
        "IQR=Q3-Q1\n",
        "lower_bound=Q1-1.5*IQR\n",
        "upper_bound=Q3+1.5*IQR\n",
        "outliers=[x for x in data if x<lower_bound or x>upper_bound]\n",
        "print(\"Outliers:\",outliers)\n",
        "plt.boxplot(data)\n",
        "plt.little(\"Boxplot of the Data\")\n",
        "plt.show()"
      ],
      "metadata": {
        "id": "iWqX708Ay5NK",
        "colab": {
          "base_uri": "https://localhost:8080/",
          "height": 635
        },
        "outputId": "b66a8ee1-4448-44dd-bb42-53e4640c1d04"
      },
      "execution_count": 10,
      "outputs": [
        {
          "output_type": "stream",
          "name": "stdout",
          "text": [
            "Outliers: [35]\n"
          ]
        },
        {
          "output_type": "error",
          "ename": "AttributeError",
          "evalue": "module 'matplotlib.pyplot' has no attribute 'little'",
          "traceback": [
            "\u001b[0;31m---------------------------------------------------------------------------\u001b[0m",
            "\u001b[0;31mAttributeError\u001b[0m                            Traceback (most recent call last)",
            "\u001b[0;32m/tmp/ipython-input-644169515.py\u001b[0m in \u001b[0;36m<cell line: 0>\u001b[0;34m()\u001b[0m\n\u001b[1;32m     11\u001b[0m \u001b[0mprint\u001b[0m\u001b[0;34m(\u001b[0m\u001b[0;34m\"Outliers:\"\u001b[0m\u001b[0;34m,\u001b[0m\u001b[0moutliers\u001b[0m\u001b[0;34m)\u001b[0m\u001b[0;34m\u001b[0m\u001b[0;34m\u001b[0m\u001b[0m\n\u001b[1;32m     12\u001b[0m \u001b[0mplt\u001b[0m\u001b[0;34m.\u001b[0m\u001b[0mboxplot\u001b[0m\u001b[0;34m(\u001b[0m\u001b[0mdata\u001b[0m\u001b[0;34m)\u001b[0m\u001b[0;34m\u001b[0m\u001b[0;34m\u001b[0m\u001b[0m\n\u001b[0;32m---> 13\u001b[0;31m \u001b[0mplt\u001b[0m\u001b[0;34m.\u001b[0m\u001b[0mlittle\u001b[0m\u001b[0;34m(\u001b[0m\u001b[0;34m\"Boxplot of the Data\"\u001b[0m\u001b[0;34m)\u001b[0m\u001b[0;34m\u001b[0m\u001b[0;34m\u001b[0m\u001b[0m\n\u001b[0m\u001b[1;32m     14\u001b[0m \u001b[0mplt\u001b[0m\u001b[0;34m.\u001b[0m\u001b[0mshow\u001b[0m\u001b[0;34m(\u001b[0m\u001b[0;34m)\u001b[0m\u001b[0;34m\u001b[0m\u001b[0;34m\u001b[0m\u001b[0m\n",
            "\u001b[0;31mAttributeError\u001b[0m: module 'matplotlib.pyplot' has no attribute 'little'"
          ]
        },
        {
          "output_type": "display_data",
          "data": {
            "text/plain": [
              "<Figure size 640x480 with 1 Axes>"
            ],
            "image/png": "[encoded data removed]"
          },
          "metadata": {}
        }
      ]
    },
    {
      "cell_type": "code",
      "source": [
        "#8.You are working as a data analyst in an e-commerce company. The marketing team wants to know if there is a relationship between advertising spend and ● Explain how you would use covariance and correlation to explore thisrelationship. daily sales. ● Write Python code to compute the correlation between the two lists:advertising_spend = [200, 250, 300, 400, 500]daily_sales = [2200, 2450, 2750, 3200, 4000](Include your Python code and output in the code box below.)\n",
        "#ans. Covariance measures how much two variables change together.If the covariance is positive,it means when one variable increases,the other tends to increase too.Correlation is a normalized version of covariance that ranges from -1to1, making it easier to interpret the strength and direction of the relationship,close to -1 means a strong negative relationship,and close to 0 means no linear relationship.\n",
        "import numpy as np\n",
        "advertising_spend=([200, 250, 300, 400, 500])\n",
        "daily_sales=([2200, 2450, 2750, 3200, 4000])\n",
        "covariance=np.cov(advertising_spend,daily_sales)[0,1]\n",
        "correlation=np.corrcoef(advertising_spend,daily_sales)[0,1]\n",
        "print(f\"Covariance:{covariance}\")\n",
        "print(f\"Correlation:{correlation}\")"
      ],
      "metadata": {
        "id": "GVpBHFkEzSBE",
        "colab": {
          "base_uri": "https://localhost:8080/"
        },
        "outputId": "6d024e25-82d1-4768-8198-cc976d5349fe"
      },
      "execution_count": 11,
      "outputs": [
        {
          "output_type": "stream",
          "name": "stdout",
          "text": [
            "Covariance:84875.0\n",
            "Correlation:0.9935824101653329\n"
          ]
        }
      ]
    },
    {
      "cell_type": "code",
      "source": [
        "#9.Your team has collected customer satisfaction survey data on a scale of 1-10 and wants to understand its distribution before launching a new product● Explain which summary statistics and visualizations (e.g. mean, standadeviation, histogram) you’d use.● Write Python code to create a histogram using Matplotlib for the survey data:survey_scores = [7, 8, 5, 9, 6, 7, 8, 9, 10, 4, 7, 6, 9, 8, 7](Include your Python code and output in the code box below.)\n",
        "#ans.To understand the distribution of customer satisfaction survey data(on a scale of 1-10), you’d typically use:Mean: Gives the average satisfaction score. Standard Deviation: Shows how spread out the scores are from the mean.Histogram: A visualization that shows the distribution of scores,helping to understand the shape of the data(like if it’s skewed,symmetric,or has multiple peaks)\n",
        "import matplotlib.pyplot as plt\n",
        "import numpy as np\n",
        "survey_scores=[7, 8, 5, 9, 6, 7, 8, 9, 10, 4, 7, 6, 9, 8, 7]\n",
        "mean_score=np.mean(survey_scores)\n",
        "std_dev=np.std(survey_scores)\n",
        "print(f\"Mean Satisfaction Score:{mean_score}\")\n",
        "print(f\"Standard Deviation:{std_dev}\")\n",
        "plt.hist(survey_scores,bins=range(1,12),edgecolor='black')\n",
        "plt.xlabel('Satisfaction Score')\n",
        "plt.ylabel('Frequency')\n",
        "plt.title(' Distribution of Customer Satisfaction Scores')\n",
        "plt.xticks(range(1,11))\n",
        "plt.show()\n"
      ],
      "metadata": {
        "id": "XUMNJLuWz8fu",
        "colab": {
          "base_uri": "https://localhost:8080/",
          "height": 509
        },
        "outputId": "cf4d3361-ea4a-438d-b43e-06f80f8b32c6"
      },
      "execution_count": 12,
      "outputs": [
        {
          "output_type": "stream",
          "name": "stdout",
          "text": [
            "Mean Satisfaction Score:7.333333333333333\n",
            "Standard Deviation:1.577621275493231\n"
          ]
        },
        {
          "output_type": "display_data",
          "data": {
            "text/plain": [
              "<Figure size 640x480 with 1 Axes>"
            ],
            "image/png": "[encoded data removed]"
          },
          "metadata": {}
        }
      ]
    }
  ]
}